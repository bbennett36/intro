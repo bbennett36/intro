{
 "cells": [
  {
   "cell_type": "markdown",
   "metadata": {},
   "source": [
    "1. Ask the user to enter 3 numbers  \n",
    "2. Add the numbers together and divide by 2  \n",
    "3. Display the result  "
   ]
  },
  {
   "cell_type": "code",
   "execution_count": 2,
   "metadata": {},
   "outputs": [
    {
     "name": "stdout",
     "output_type": "stream",
     "text": [
      "what is your name?Maureen\n",
      "Maureen\n",
      "what is your age?51\n",
      "Maureen age will be 56 5 years from now\n",
      "Maureen age would of been 46 5 years ago\n"
     ]
    }
   ],
   "source": [
    "name = input(\"what is your name?\")\n",
    "print(name)\n",
    "age = input(\"what is your age?\")\n",
    "age = int(age)\n",
    "print(name,'age will be', age+5,'5 years from now')\n",
    "print(name,'age would of been',age-5,'5 years ago')\n"
   ]
  },
  {
   "cell_type": "code",
   "execution_count": 3,
   "metadata": {},
   "outputs": [
    {
     "name": "stdout",
     "output_type": "stream",
     "text": [
      "enter the 1 number732\n",
      "enter the 2 number5\n",
      "enter the 3 number16\n",
      "376.5\n"
     ]
    }
   ],
   "source": [
    "number1 = input(\"enter the 1 number\")\n",
    "number1 = int(number1)\n",
    "number2 = input(\"enter the 2 number\")\n",
    "number2 = int(number2)\n",
    "number3 = input(\"enter the 3 number\")\n",
    "number3 = int(number3)\n",
    "result = (number1 + number2 + number3)/2\n",
    "print(result)"
   ]
  },
  {
   "cell_type": "code",
   "execution_count": null,
   "metadata": {},
   "outputs": [],
   "source": []
  }
 ],
 "metadata": {
  "kernelspec": {
   "display_name": "Python 3",
   "language": "python",
   "name": "python3"
  },
  "language_info": {
   "codemirror_mode": {
    "name": "ipython",
    "version": 3
   },
   "file_extension": ".py",
   "mimetype": "text/x-python",
   "name": "python",
   "nbconvert_exporter": "python",
   "pygments_lexer": "ipython3",
   "version": "3.7.1"
  }
 },
 "nbformat": 4,
 "nbformat_minor": 2
}
