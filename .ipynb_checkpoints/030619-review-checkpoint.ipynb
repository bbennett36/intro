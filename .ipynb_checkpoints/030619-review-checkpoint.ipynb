{
 "cells": [
  {
   "cell_type": "code",
   "execution_count": null,
   "metadata": {
    "collapsed": true
   },
   "outputs": [],
   "source": [
    "import random"
   ]
  },
  {
   "cell_type": "markdown",
   "metadata": {},
   "source": [
    "# Keyboard Input / Variables"
   ]
  },
  {
   "cell_type": "markdown",
   "metadata": {},
   "source": [
    "<h3> Name, Age, and salary </h3>\n",
    "<ol>\n",
    "    <li>Ask the user for their name. </li>\n",
    "    <li>Print the name of the user. </li>\n",
    "    <li>Ask the user their age</li>\n",
    "    <li>Print the age of the user.</li>\n",
    "    <li>Ask the user how much they make.</li>\n",
    "    <li>Print the users salary. </li>\n",
    "</ol>"
   ]
  },
  {
   "cell_type": "code",
   "execution_count": null,
   "metadata": {
    "collapsed": true
   },
   "outputs": [],
   "source": [
    "name = input(\"what is your name?\")\n",
    "print(name)\n",
    "age = input(\"how old are you?\")\n",
    "print(age)\n",
    "salary = input(\"how much you make?\")\n",
    "print(salary)"
   ]
  },
  {
   "cell_type": "markdown",
   "metadata": {},
   "source": [
    "<h3> Age in 5 years </h3>\n",
    "<ol>\n",
    "    <li>Ask the user for their name. </li>\n",
    "    <li>Print the name of the user. </li>\n",
    "    <li>Ask the user their age</li>\n",
    "    <li>Print what the age of the user will be 5 years from now.</li>\n",
    "    <li>Print what the age of the user would of been 5 years ago.</li>\n",
    "</ol>"
   ]
  },
  {
   "cell_type": "code",
   "execution_count": 1,
   "metadata": {},
   "outputs": [
    {
     "name": "stdout",
     "output_type": "stream",
     "text": [
      "what is your name?Calanja\n",
      "Calanja\n",
      "how old are you?15\n",
      " 5 years from now you age would be 20\n",
      " 5 years from ago your age would of been 10\n"
     ]
    }
   ],
   "source": [
    "name = input(\"what is your name?\")\n",
    "print(name)\n",
    "age = int(input(\"how old are you?\"))\n",
    "result1 = age+5\n",
    "result2= age-5\n",
    "print(\" 5 years from now you age would be\", result1)\n",
    "print(\" 5 years from ago your age would of been\", result2)\n"
   ]
  },
  {
   "cell_type": "markdown",
   "metadata": {},
   "source": [
    "# If Statements"
   ]
  },
  {
   "cell_type": "markdown",
   "metadata": {},
   "source": [
    "<p>The if/else statement executes a block of code if a specified condition is true.</p>\n",
    "<p>If the condition is false, another block of code can be executed.</p>"
   ]
  },
  {
   "cell_type": "markdown",
   "metadata": {},
   "source": [
    "<h3>How Old Are You?</h3>\n",
    "<p>Make a program which displays a different message depending on the age given. Here are the possible responses:</p>\n",
    "<ol>\n",
    "    <li>Ask user to input their age (make sure is Integer)</li>\n",
    "    <li>age is less than 16, say \"You can't drive.\"</li>\n",
    "    <li>age is less than 18, say \"You can't vote.\"</li>\n",
    "    <li>age is less than 25, say \"You can't rent a car.\"</li>\n",
    "    <li>age is 25 or over, say \"You can do anything that's legal.\"</li>\n",
    "</ol>"
   ]
  },
  {
   "cell_type": "code",
   "execution_count": 3,
   "metadata": {},
   "outputs": [
    {
     "name": "stdout",
     "output_type": "stream",
     "text": [
      "how old are you?25\n",
      "you can do anything that's legal\n"
     ]
    }
   ],
   "source": [
    "age = int(input(\"how old are you?\"))\n",
    "if age<16:\n",
    "    print(\"you can't drive\")\n",
    "elif age<18:\n",
    "    print(\"you can't vote\")\n",
    "elif age<25:\n",
    "    print(\"you cant rent a car\")\n",
    "elif age>=25:\n",
    "    print(\"you can do anything that's legal\")"
   ]
  },
  {
   "cell_type": "markdown",
   "metadata": {},
   "source": [
    "# While Statements -   "
   ]
  },
  {
   "cell_type": "markdown",
   "metadata": {},
   "source": [
    "<p> A while loop is a control flow statement that allows code to be executed repeatedly based on a given Boolean condition.</p>\n",
    "<p>The while loop can be thought of as a repeating if statement. </p>"
   ]
  },
  {
   "cell_type": "markdown",
   "metadata": {},
   "source": [
    "<h3>Counting with a While Loop</h3>\n",
    "<ol>\n",
    "    <li>Ask the user to enter a message</li>\n",
    "    <li>Ask the user how many times they want to display the message</li>\n",
    "    <li>Display the message the user entered and display it the number of times they specified</li>\n",
    "</ol>"
   ]
  },
  {
   "cell_type": "code",
   "execution_count": 6,
   "metadata": {},
   "outputs": [
    {
     "name": "stdout",
     "output_type": "stream",
     "text": [
      "enter a messagehello\n",
      "enter the number of how many times you want the message displayed0\n"
     ]
    }
   ],
   "source": [
    "message = input(\"enter a message\")\n",
    "num = int(input(\"enter the number of how many times you want the message displayed\"))\n",
    "counter = 1\n",
    "while counter<= num:\n",
    "    print(message)\n",
    "    counter +=1"
   ]
  },
  {
   "cell_type": "code",
   "execution_count": null,
   "metadata": {},
   "outputs": [],
   "source": []
  }
 ],
 "metadata": {
  "hide_input": false,
  "kernelspec": {
   "display_name": "Python 3",
   "language": "python",
   "name": "python3"
  },
  "language_info": {
   "codemirror_mode": {
    "name": "ipython",
    "version": 3
   },
   "file_extension": ".py",
   "mimetype": "text/x-python",
   "name": "python",
   "nbconvert_exporter": "python",
   "pygments_lexer": "ipython3",
   "version": "3.7.1"
  },
  "toc": {
   "base_numbering": 1,
   "nav_menu": {},
   "number_sections": true,
   "sideBar": true,
   "skip_h1_title": false,
   "title_cell": "Table of Contents",
   "title_sidebar": "Contents",
   "toc_cell": false,
   "toc_position": {
    "height": "calc(100% - 180px)",
    "left": "10px",
    "top": "150px",
    "width": "384px"
   },
   "toc_section_display": true,
   "toc_window_display": true
  }
 },
 "nbformat": 4,
 "nbformat_minor": 2
}
