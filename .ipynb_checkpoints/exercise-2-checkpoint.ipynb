{
 "cells": [
  {
   "cell_type": "markdown",
   "metadata": {},
   "source": [
    "1. Ask the user their name  \n",
    "2. Then display their name to prove that you can recall it  \n",
    "3. Ask them their age  \n",
    "4. Then display what their age would be in 5 years from now  \n",
    "5. Then display what their age would of been 5 years ago  "
   ]
  },
  {
   "cell_type": "code",
   "execution_count": 2,
   "metadata": {},
   "outputs": [
    {
     "name": "stdout",
     "output_type": "stream",
     "text": [
      "what is your name?c\n",
      "c\n",
      "what is your age?14\n",
      "c age will be 19 5 years from now\n",
      "c age would of been 9 5 years ago\n"
     ]
    }
   ],
   "source": [
    "name = input(\"what is your name?\")\n",
    "print(name)\n",
    "age = input(\"what is your age?\")\n",
    "age = int(age)\n",
    "print(name,'age will be',age+5,'5 years from now')\n",
    "print(name,'age would of been',age-5,'5 years ago')\n"
   ]
  },
  {
   "cell_type": "code",
   "execution_count": null,
   "metadata": {},
   "outputs": [],
   "source": []
  }
 ],
 "metadata": {
  "kernelspec": {
   "display_name": "Python 3",
   "language": "python",
   "name": "python3"
  },
  "language_info": {
   "codemirror_mode": {
    "name": "ipython",
    "version": 3
   },
   "file_extension": ".py",
   "mimetype": "text/x-python",
   "name": "python",
   "nbconvert_exporter": "python",
   "pygments_lexer": "ipython3",
   "version": "3.7.1"
  }
 },
 "nbformat": 4,
 "nbformat_minor": 2
}
