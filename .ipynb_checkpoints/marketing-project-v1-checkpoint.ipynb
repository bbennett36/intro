{
 "cells": [
  {
   "cell_type": "code",
   "execution_count": 58,
   "metadata": {},
   "outputs": [
    {
     "data": {
      "text/html": [
       "<style>.container { width:90% !important; }</style>"
      ],
      "text/plain": [
       "<IPython.core.display.HTML object>"
      ]
     },
     "metadata": {},
     "output_type": "display_data"
    }
   ],
   "source": [
    "import pandas as pd\n",
    "import numpy as np\n",
    "\n",
    "\n",
    "from IPython.core.display import display, HTML\n",
    "display(HTML(\"<style>.container { width:90% !important; }</style>\"))\n",
    "\n",
    "pd.set_option('display.max_columns', None)\n",
    "pd.set_option('display.max_rows', None)"
   ]
  },
  {
   "cell_type": "markdown",
   "metadata": {
    "hide_input": true
   },
   "source": [
    "<h1>Goal - Match contacts with no account to our Speedeon accounts from salesforce</h1>\n",
    "<hr>"
   ]
  },
  {
   "cell_type": "markdown",
   "metadata": {},
   "source": [
    "<h3> Dictionary - A dictionary consists of a collection of key-value pairs. Each key-value pair maps the key to its associated value</h3> \n",
    "<br />\n",
    "<img src=\"dict.png\"/>"
   ]
  },
  {
   "cell_type": "markdown",
   "metadata": {},
   "source": [
    "<h4> Creating Dictionary </h4>"
   ]
  },
  {
   "cell_type": "code",
   "execution_count": 59,
   "metadata": {},
   "outputs": [
    {
     "data": {
      "text/plain": [
       "{'a': 'alpha', 'o': 'omega', 'g': 'gamma'}"
      ]
     },
     "execution_count": 59,
     "metadata": {},
     "output_type": "execute_result"
    }
   ],
   "source": [
    "example_dict = {'a':'alpha', 'o':'omega', 'g': 'gamma'}\n",
    "example_dict"
   ]
  },
  {
   "cell_type": "markdown",
   "metadata": {},
   "source": [
    "<h4> Accesing Value by key </h4>"
   ]
  },
  {
   "cell_type": "code",
   "execution_count": 60,
   "metadata": {},
   "outputs": [
    {
     "data": {
      "text/plain": [
       "'alpha'"
      ]
     },
     "execution_count": 60,
     "metadata": {},
     "output_type": "execute_result"
    }
   ],
   "source": [
    "example_dict['a']"
   ]
  },
  {
   "cell_type": "markdown",
   "metadata": {},
   "source": [
    "<h4> Adding a new key </h4>"
   ]
  },
  {
   "cell_type": "code",
   "execution_count": 61,
   "metadata": {},
   "outputs": [
    {
     "data": {
      "text/plain": [
       "{'a': 'alpha', 'o': 'omega', 'g': 'gamma', 'b': 'beta'}"
      ]
     },
     "execution_count": 61,
     "metadata": {},
     "output_type": "execute_result"
    }
   ],
   "source": [
    "example_dict['b'] = 'beta'\n",
    "\n",
    "example_dict"
   ]
  },
  {
   "cell_type": "markdown",
   "metadata": {},
   "source": [
    "<h4> Updating value by key </h4>"
   ]
  },
  {
   "cell_type": "code",
   "execution_count": 62,
   "metadata": {},
   "outputs": [
    {
     "name": "stdout",
     "output_type": "stream",
     "text": [
      "gamma\n",
      "gamma2\n"
     ]
    }
   ],
   "source": [
    "print(example_dict['g'])\n",
    "\n",
    "example_dict['g'] = 'gamma2'\n",
    "\n",
    "print(example_dict['g'])"
   ]
  },
  {
   "cell_type": "markdown",
   "metadata": {},
   "source": [
    "<h4> Deleting a key-value pair </h4>"
   ]
  },
  {
   "cell_type": "code",
   "execution_count": 63,
   "metadata": {},
   "outputs": [
    {
     "name": "stdout",
     "output_type": "stream",
     "text": [
      "{'a': 'alpha', 'o': 'omega', 'g': 'gamma2', 'b': 'beta'}\n",
      "{'a': 'alpha', 'o': 'omega', 'g': 'gamma2'}\n"
     ]
    }
   ],
   "source": [
    "print(example_dict)\n",
    "del example_dict['b']\n",
    "print(example_dict)"
   ]
  },
  {
   "cell_type": "markdown",
   "metadata": {},
   "source": [
    "<h4> Adding new key-value pair </h4>"
   ]
  },
  {
   "cell_type": "code",
   "execution_count": 64,
   "metadata": {},
   "outputs": [
    {
     "data": {
      "text/plain": [
       "{'a': 'alpha', 'o': 'omega', 'g': 'gamma2', 'd': 'delta'}"
      ]
     },
     "execution_count": 64,
     "metadata": {},
     "output_type": "execute_result"
    }
   ],
   "source": [
    "new_dict = {'d':'delta'}\n",
    "example_dict.update(new_dict)\n",
    "\n",
    "example_dict"
   ]
  },
  {
   "cell_type": "markdown",
   "metadata": {},
   "source": [
    "<h4> Dictionary built-in functions </h4>"
   ]
  },
  {
   "cell_type": "code",
   "execution_count": 65,
   "metadata": {},
   "outputs": [
    {
     "name": "stdout",
     "output_type": "stream",
     "text": [
      "dict_keys(['a', 'o', 'g', 'd'])\n",
      "\n",
      "dict_values(['alpha', 'omega', 'gamma2', 'delta'])\n",
      "\n",
      "dict_items([('a', 'alpha'), ('o', 'omega'), ('g', 'gamma2'), ('d', 'delta')])\n",
      "\n",
      "key  : a\n",
      "value: alpha\n",
      "----------------------\n",
      "key  : o\n",
      "value: omega\n",
      "----------------------\n",
      "key  : g\n",
      "value: gamma2\n",
      "----------------------\n",
      "key  : d\n",
      "value: delta\n",
      "----------------------\n"
     ]
    }
   ],
   "source": [
    "# Get dict keys\n",
    "print(example_dict.keys())\n",
    "print()\n",
    "\n",
    "# Get dict values\n",
    "print(example_dict.values())\n",
    "print()\n",
    "\n",
    "\n",
    "# Return a list of key-value pairs\n",
    "print(example_dict.items())\n",
    "print()\n",
    "\n",
    "# Iterating through dictionary\n",
    "for k,v in example_dict.items():\n",
    "    print('key  :', k)\n",
    "    print('value:', v)\n",
    "    print('----------------------')"
   ]
  },
  {
   "cell_type": "markdown",
   "metadata": {},
   "source": [
    "<h4> Dictionary Excercise </h4>\n",
    "<ol>\n",
    "<li> Create a dictionary with 5 different key value pairs</li>\n",
    "<li> Print the dictionary</li>\n",
    "<li> Print the dictionary keys</li>\n",
    "<li> Print the dictionary values</li>\n",
    "<li> Print the the value for any key</li>\n",
    "<li> Change the value for any key</li>\n",
    "<li> Add a new key-pair value</li>\n",
    "<li> Iterate through through the dictionary and print the key and value for each pair</li>\n",
    "</ol>"
   ]
  },
  {
   "cell_type": "code",
   "execution_count": 66,
   "metadata": {},
   "outputs": [
    {
     "name": "stdout",
     "output_type": "stream",
     "text": [
      "{'A': 1, 'B': 2, 'C': 3, 'D': 4, 'E': 5}\n",
      "dict_keys(['A', 'B', 'C', 'D', 'E'])\n",
      "dict_values([1, 2, 3, 4, 5])\n",
      "1\n",
      "A 1\n",
      "B 2\n",
      "C 98\n",
      "D 4\n",
      "E 5\n",
      "F 6\n"
     ]
    }
   ],
   "source": [
    "example = {'A':1,'B':2,'C':3,'D':4,'E':5}\n",
    "print(example)\n",
    "print(example.keys())\n",
    "print(example.values())\n",
    "print(example['A'])\n",
    "example['C'] = '98'\n",
    "example['F'] = '6'\n",
    "for k,v in example.items():\n",
    "    print(k,v)\n"
   ]
  },
  {
   "cell_type": "code",
   "execution_count": 67,
   "metadata": {},
   "outputs": [
    {
     "data": {
      "text/plain": [
       "'9898'"
      ]
     },
     "execution_count": 67,
     "metadata": {},
     "output_type": "execute_result"
    }
   ],
   "source": [
    "'98'*2"
   ]
  },
  {
   "cell_type": "markdown",
   "metadata": {},
   "source": [
    "<h3> Project </h3> "
   ]
  },
  {
   "cell_type": "code",
   "execution_count": 68,
   "metadata": {},
   "outputs": [],
   "source": [
    "def get_domain(value):\n",
    "    if isinstance(value, str):\n",
    "        return value.split('@')[1].replace('.com', '')\n",
    "    else:\n",
    "        return value\n",
    "    \n",
    "def split_first(value):\n",
    "    if isinstance(value, str):\n",
    "        return value.split(\" \")[0]\n",
    "    else:\n",
    "        return value\n",
    "    \n",
    "def split_last(value):\n",
    "    if isinstance(value, str):\n",
    "        return value.split(\" \")[1]\n",
    "    else:\n",
    "        return value"
   ]
  },
  {
   "cell_type": "code",
   "execution_count": 69,
   "metadata": {},
   "outputs": [],
   "source": [
    "# Dictionary containing all available accounts\n",
    "all_accounts = pd.read_csv('report1557927215481.csv', encoding='latin-1')\n",
    "all_accounts['email_domain'] = all_accounts['Email'].apply(get_domain)\n",
    "all_accounts['First Name'] = all_accounts['First Name'].apply(lambda x:  x if isinstance(x,float) else x.lower())\n",
    "all_accounts['Last Name'] = all_accounts['Last Name'].apply(lambda x:  x if isinstance(x,float) else x.lower()) \n",
    "\n",
    "# Dictionary containing all contacts with no accounts\n",
    "no_account = pd.read_csv('contacts_no_accounts.csv', encoding='latin-1')\n",
    "no_account['email_domain'] = no_account['Email'].apply(get_domain)\n",
    "no_account['First Name'] = no_account['Full Name'].apply(split_first)\n",
    "no_account['Last Name'] = no_account['Full Name'].apply(split_last)\n",
    "no_account['First Name'] = no_account['First Name'].apply(lambda x:  x if isinstance(x,float) else x.lower())\n",
    "no_account['Last Name'] = no_account['Last Name'].apply(lambda x:  x if isinstance(x,float) else x.lower())\n",
    "no_account[\"Account ID\"] = \"\""
   ]
  },
  {
   "cell_type": "code",
   "execution_count": 70,
   "metadata": {},
   "outputs": [
    {
     "data": {
      "text/html": [
       "<div>\n",
       "<style scoped>\n",
       "    .dataframe tbody tr th:only-of-type {\n",
       "        vertical-align: middle;\n",
       "    }\n",
       "\n",
       "    .dataframe tbody tr th {\n",
       "        vertical-align: top;\n",
       "    }\n",
       "\n",
       "    .dataframe thead th {\n",
       "        text-align: right;\n",
       "    }\n",
       "</style>\n",
       "<table border=\"1\" class=\"dataframe\">\n",
       "  <thead>\n",
       "    <tr style=\"text-align: right;\">\n",
       "      <th></th>\n",
       "      <th>Account ID</th>\n",
       "      <th>First Name</th>\n",
       "      <th>Last Name</th>\n",
       "      <th>Title</th>\n",
       "      <th>Mailing Street</th>\n",
       "      <th>Mailing City</th>\n",
       "      <th>Mailing State/Province (text only)</th>\n",
       "      <th>Mailing Zip/Postal Code</th>\n",
       "      <th>Phone</th>\n",
       "      <th>Email</th>\n",
       "      <th>Account Owner</th>\n",
       "      <th>Account Name</th>\n",
       "      <th>email_domain</th>\n",
       "    </tr>\n",
       "  </thead>\n",
       "  <tbody>\n",
       "    <tr>\n",
       "      <th>0</th>\n",
       "      <td>001F000001O2pTm</td>\n",
       "      <td>joe</td>\n",
       "      <td>grusman</td>\n",
       "      <td>Sr. Manager of Marketing Acquisition &amp; Emergin...</td>\n",
       "      <td>NaN</td>\n",
       "      <td>NaN</td>\n",
       "      <td>NaN</td>\n",
       "      <td>NaN</td>\n",
       "      <td>+1 800 943 1633</td>\n",
       "      <td>jgrusman@zappos.com</td>\n",
       "      <td>Marketing</td>\n",
       "      <td>Zappos</td>\n",
       "      <td>zappos</td>\n",
       "    </tr>\n",
       "  </tbody>\n",
       "</table>\n",
       "</div>"
      ],
      "text/plain": [
       "        Account ID First Name Last Name  \\\n",
       "0  001F000001O2pTm        joe   grusman   \n",
       "\n",
       "                                               Title Mailing Street  \\\n",
       "0  Sr. Manager of Marketing Acquisition & Emergin...            NaN   \n",
       "\n",
       "  Mailing City Mailing State/Province (text only) Mailing Zip/Postal Code  \\\n",
       "0          NaN                                NaN                     NaN   \n",
       "\n",
       "             Phone                Email Account Owner Account Name  \\\n",
       "0  +1 800 943 1633  jgrusman@zappos.com     Marketing       Zappos   \n",
       "\n",
       "  email_domain  \n",
       "0       zappos  "
      ]
     },
     "execution_count": 70,
     "metadata": {},
     "output_type": "execute_result"
    }
   ],
   "source": [
    "all_accounts.head(1)"
   ]
  },
  {
   "cell_type": "code",
   "execution_count": 71,
   "metadata": {},
   "outputs": [
    {
     "data": {
      "text/html": [
       "<div>\n",
       "<style scoped>\n",
       "    .dataframe tbody tr th:only-of-type {\n",
       "        vertical-align: middle;\n",
       "    }\n",
       "\n",
       "    .dataframe tbody tr th {\n",
       "        vertical-align: top;\n",
       "    }\n",
       "\n",
       "    .dataframe thead th {\n",
       "        text-align: right;\n",
       "    }\n",
       "</style>\n",
       "<table border=\"1\" class=\"dataframe\">\n",
       "  <thead>\n",
       "    <tr style=\"text-align: right;\">\n",
       "      <th></th>\n",
       "      <th>Full Name</th>\n",
       "      <th>Email</th>\n",
       "      <th>Account Name: Account Name</th>\n",
       "      <th>Contact ID</th>\n",
       "      <th>email_domain</th>\n",
       "      <th>First Name</th>\n",
       "      <th>Last Name</th>\n",
       "      <th>Account ID</th>\n",
       "    </tr>\n",
       "  </thead>\n",
       "  <tbody>\n",
       "    <tr>\n",
       "      <th>0</th>\n",
       "      <td>David Kalman</td>\n",
       "      <td>david.kalman@hal2l.com</td>\n",
       "      <td>NaN</td>\n",
       "      <td>0032A00002up33E</td>\n",
       "      <td>hal2l</td>\n",
       "      <td>david</td>\n",
       "      <td>kalman</td>\n",
       "      <td></td>\n",
       "    </tr>\n",
       "  </tbody>\n",
       "</table>\n",
       "</div>"
      ],
      "text/plain": [
       "      Full Name                   Email  Account Name: Account Name  \\\n",
       "0  David Kalman  david.kalman@hal2l.com                         NaN   \n",
       "\n",
       "        Contact ID email_domain First Name Last Name Account ID  \n",
       "0  0032A00002up33E        hal2l      david    kalman             "
      ]
     },
     "execution_count": 71,
     "metadata": {},
     "output_type": "execute_result"
    }
   ],
   "source": [
    "no_account.head(1)"
   ]
  },
  {
   "cell_type": "code",
   "execution_count": 72,
   "metadata": {},
   "outputs": [],
   "source": [
    "all_accounts = all_accounts.to_dict(orient='records')\n",
    "no_account = no_account.to_dict(orient='records')"
   ]
  },
  {
   "cell_type": "markdown",
   "metadata": {},
   "source": [
    "<h3> Find exact email matches between the two datasets </h3>\n",
    "<ol>\n",
    "<li> Iterate through both lists, find the exact email matches</li>\n",
    "<li> Append matches to another list</li>\n",
    "</ol>"
   ]
  },
  {
   "cell_type": "code",
   "execution_count": 83,
   "metadata": {},
   "outputs": [
    {
     "name": "stdout",
     "output_type": "stream",
     "text": [
      "{'Full Name': 'Aaron Miller', 'Email': 'aaronmiller@allstate.com', 'Account Name: Account Name': 'Allstate', 'Contact ID': '0032A00002up65O', 'email_domain': 'allstate', 'First Name': 'aaron', 'Last Name': 'miller', 'Account ID': '001F000000q05tW'}\n",
      "{'Full Name': 'Aaron Miller', 'Email': 'aaronmiller@allstate.com', 'Account Name: Account Name': 'Allstate', 'Contact ID': '0032A00002up65O', 'email_domain': 'allstate', 'First Name': 'aaron', 'Last Name': 'miller', 'Account ID': '001F000000q05tW'}\n",
      "{'Full Name': 'Cindy Johnson', 'Email': 'cindy.johnson@hanes.com', 'Account Name: Account Name': 'Hanesbrands', 'Contact ID': '0032A00002uoyXU', 'email_domain': 'hanes', 'First Name': 'cindy', 'Last Name': 'johnson', 'Account ID': '001F000001OrqRO'}\n",
      "{'Full Name': 'Cindy Johnson', 'Email': 'cindy.johnson@hanes.com', 'Account Name: Account Name': 'Hanesbrands', 'Contact ID': '0032A00002uoybX', 'email_domain': 'hanes', 'First Name': 'cindy', 'Last Name': 'johnson', 'Account ID': '001F000001OrqRO'}\n",
      "{'Full Name': 'Cindy Johnson', 'Email': 'cindy.johnson@hanes.com', 'Account Name: Account Name': 'Hanesbrands', 'Contact ID': '0032A00002uoyy1', 'email_domain': 'hanes', 'First Name': 'cindy', 'Last Name': 'johnson', 'Account ID': '001F000001OrqRO'}\n",
      "{'Full Name': 'Cindy Johnson', 'Email': 'cindy.johnson@hanes.com', 'Account Name: Account Name': 'Hanesbrands', 'Contact ID': '0032A00002uoz0A', 'email_domain': 'hanes', 'First Name': 'cindy', 'Last Name': 'johnson', 'Account ID': '001F000001OrqRO'}\n",
      "{'Full Name': 'Cindy Johnson', 'Email': 'cindy.johnson@hanes.com', 'Account Name: Account Name': 'Hanesbrands', 'Contact ID': '0032A00002uoz1Q', 'email_domain': 'hanes', 'First Name': 'cindy', 'Last Name': 'johnson', 'Account ID': '001F000001OrqRO'}\n",
      "{'Full Name': 'Cindy Johnson', 'Email': 'cindy.johnson@hanes.com', 'Account Name: Account Name': 'Hanesbrands', 'Contact ID': '0032A00002uozAv', 'email_domain': 'hanes', 'First Name': 'cindy', 'Last Name': 'johnson', 'Account ID': '001F000001OrqRO'}\n",
      "{'Full Name': 'Cindy Johnson', 'Email': 'cindy.johnson@hanes.com', 'Account Name: Account Name': 'Hanesbrands', 'Contact ID': '0032A00002uozR0', 'email_domain': 'hanes', 'First Name': 'cindy', 'Last Name': 'johnson', 'Account ID': '001F000001OrqRO'}\n",
      "{'Full Name': 'Beth Murphy', 'Email': 'bethmurphy@allstate.com', 'Account Name: Account Name': 'Allstate', 'Contact ID': '0032A00002uozhC', 'email_domain': 'allstate', 'First Name': 'beth', 'Last Name': 'murphy', 'Account ID': '001F000000q05tW'}\n",
      "{'Full Name': 'Beth Murphy', 'Email': 'bethmurphy@allstate.com', 'Account Name: Account Name': 'Allstate', 'Contact ID': '0032A00002uozhC', 'email_domain': 'allstate', 'First Name': 'beth', 'Last Name': 'murphy', 'Account ID': '001F000000q05tW'}\n",
      "{'Full Name': 'Cindy Johnson', 'Email': 'cindy.johnson@hanes.com', 'Account Name: Account Name': 'Hanesbrands', 'Contact ID': '0032A00002up04j', 'email_domain': 'hanes', 'First Name': 'cindy', 'Last Name': 'johnson', 'Account ID': '001F000001OrqRO'}\n",
      "{'Full Name': 'Beth Murphy', 'Email': 'bethmurphy@allstate.com', 'Account Name: Account Name': 'Allstate', 'Contact ID': '0032A00002uoub6', 'email_domain': 'allstate', 'First Name': 'beth', 'Last Name': 'murphy', 'Account ID': '001F000000q05tW'}\n",
      "{'Full Name': 'Beth Murphy', 'Email': 'bethmurphy@allstate.com', 'Account Name: Account Name': 'Allstate', 'Contact ID': '0032A00002uoub6', 'email_domain': 'allstate', 'First Name': 'beth', 'Last Name': 'murphy', 'Account ID': '001F000000q05tW'}\n",
      "{'Full Name': 'Aaron Miller', 'Email': 'aaronmiller@allstate.com', 'Account Name: Account Name': 'Allstate', 'Contact ID': '0032A00002uoubo', 'email_domain': 'allstate', 'First Name': 'aaron', 'Last Name': 'miller', 'Account ID': '001F000000q05tW'}\n",
      "{'Full Name': 'Aaron Miller', 'Email': 'aaronmiller@allstate.com', 'Account Name: Account Name': 'Allstate', 'Contact ID': '0032A00002uoubo', 'email_domain': 'allstate', 'First Name': 'aaron', 'Last Name': 'miller', 'Account ID': '001F000000q05tW'}\n",
      "{'Full Name': 'Dietric Williams', 'Email': 'dw.calihomes@gmail.com', 'Account Name: Account Name': 'Nebo Agency', 'Contact ID': '0032A00002uosZF', 'email_domain': 'gmail', 'First Name': 'dietric', 'Last Name': 'williams', 'Account ID': '0012A000028seDe'}\n",
      "{'Full Name': 'Dietric Williams', 'Email': 'dw.calihomes@gmail.com', 'Account Name: Account Name': 'MarketPlace Group', 'Contact ID': '0032A00002uosZF', 'email_domain': 'gmail', 'First Name': 'dietric', 'Last Name': 'williams', 'Account ID': '001F000001hSHyR'}\n",
      "{'Full Name': 'Catherine Jones', 'Email': 'catherinejones4.b2b@gmail.com', 'Account Name: Account Name': 'River City Publishing', 'Contact ID': '0032A00002hsTzk', 'email_domain': 'gmail', 'First Name': 'catherine', 'Last Name': 'jones', 'Account ID': '001F000000oyop9'}\n",
      "{'Full Name': 'Matthew Winter', 'Email': 'mwint@allstate.com', 'Account Name: Account Name': 'Allstate', 'Contact ID': '0032A00002uotfS', 'email_domain': 'allstate', 'First Name': 'matthew', 'Last Name': 'winter', 'Account ID': '001F000000q05tW'}\n",
      "{'Full Name': 'Matthew Winter', 'Email': 'mwint@allstate.com', 'Account Name: Account Name': 'Allstate', 'Contact ID': '0032A00002uotfS', 'email_domain': 'allstate', 'First Name': 'matthew', 'Last Name': 'winter', 'Account ID': '001F000000q05tW'}\n",
      "{'Full Name': 'Matthew Winter', 'Email': 'mwint@allstate.com', 'Account Name: Account Name': 'Allstate', 'Contact ID': '0032A00002uotfS', 'email_domain': 'allstate', 'First Name': 'matthew', 'Last Name': 'winter', 'Account ID': '001F000000q05tW'}\n",
      "{'Full Name': 'Dietric Williams', 'Email': 'dw.calihomes@gmail.com', 'Account Name: Account Name': 'Nebo Agency', 'Contact ID': '0032A00002asSYg', 'email_domain': 'gmail', 'First Name': 'dietric', 'Last Name': 'williams', 'Account ID': '0012A000028seDe'}\n",
      "{'Full Name': 'Dietric Williams', 'Email': 'dw.calihomes@gmail.com', 'Account Name: Account Name': 'MarketPlace Group', 'Contact ID': '0032A00002asSYg', 'email_domain': 'gmail', 'First Name': 'dietric', 'Last Name': 'williams', 'Account ID': '001F000001hSHyR'}\n",
      "{'Full Name': 'David Carter', 'Email': 'dcarter@commonbond.co', 'Account Name: Account Name': 'CommonBond', 'Contact ID': '0032A00002wR2wz', 'email_domain': 'commonbond.co', 'First Name': 'david', 'Last Name': 'carter', 'Account ID': '001F000001gS7RC'}\n",
      "{'Full Name': 'ANGELA GARFINKEL', 'Email': 'angela@qualitycontactsolutions.com', 'Account Name: Account Name': 'Quality Contact Solutions', 'Contact ID': '0032A00002xiEX5', 'email_domain': 'qualitycontactsolutions', 'First Name': 'angela', 'Last Name': 'garfinkel', 'Account ID': '001F000000sBTlp'}\n",
      "{'Full Name': 'Aaron Miller', 'Email': 'aaronmiller@allstate.com', 'Account Name: Account Name': 'Allstate', 'Contact ID': '0032A00002up56W', 'email_domain': 'allstate', 'First Name': 'aaron', 'Last Name': 'miller', 'Account ID': '001F000000q05tW'}\n",
      "{'Full Name': 'Aaron Miller', 'Email': 'aaronmiller@allstate.com', 'Account Name: Account Name': 'Allstate', 'Contact ID': '0032A00002up56W', 'email_domain': 'allstate', 'First Name': 'aaron', 'Last Name': 'miller', 'Account ID': '001F000000q05tW'}\n",
      "{'Full Name': 'Dietric Williams', 'Email': 'dw.calihomes@gmail.com', 'Account Name: Account Name': 'Nebo Agency', 'Contact ID': '0032A00002up56G', 'email_domain': 'gmail', 'First Name': 'dietric', 'Last Name': 'williams', 'Account ID': '0012A000028seDe'}\n",
      "{'Full Name': 'Dietric Williams', 'Email': 'dw.calihomes@gmail.com', 'Account Name: Account Name': 'MarketPlace Group', 'Contact ID': '0032A00002up56G', 'email_domain': 'gmail', 'First Name': 'dietric', 'Last Name': 'williams', 'Account ID': '001F000001hSHyR'}\n",
      "{'Full Name': 'Dietric Williams', 'Email': 'dw.calihomes@gmail.com', 'Account Name: Account Name': 'Nebo Agency', 'Contact ID': '0032A00002up5XO', 'email_domain': 'gmail', 'First Name': 'dietric', 'Last Name': 'williams', 'Account ID': '0012A000028seDe'}\n",
      "{'Full Name': 'Dietric Williams', 'Email': 'dw.calihomes@gmail.com', 'Account Name: Account Name': 'MarketPlace Group', 'Contact ID': '0032A00002up5XO', 'email_domain': 'gmail', 'First Name': 'dietric', 'Last Name': 'williams', 'Account ID': '001F000001hSHyR'}\n",
      "{'Full Name': 'Aaron Miller', 'Email': 'aaronmiller@allstate.com', 'Account Name: Account Name': 'Allstate', 'Contact ID': '0032A00002up5Xg', 'email_domain': 'allstate', 'First Name': 'aaron', 'Last Name': 'miller', 'Account ID': '001F000000q05tW'}\n",
      "{'Full Name': 'Aaron Miller', 'Email': 'aaronmiller@allstate.com', 'Account Name: Account Name': 'Allstate', 'Contact ID': '0032A00002up5Xg', 'email_domain': 'allstate', 'First Name': 'aaron', 'Last Name': 'miller', 'Account ID': '001F000000q05tW'}\n"
     ]
    },
    {
     "name": "stdout",
     "output_type": "stream",
     "text": [
      "{'Full Name': 'Cindy Johnson', 'Email': 'cindy.johnson@hanes.com', 'Account Name: Account Name': 'Hanesbrands', 'Contact ID': '0032A00002uoyLJ', 'email_domain': 'hanes', 'First Name': 'cindy', 'Last Name': 'johnson', 'Account ID': '001F000001OrqRO'}\n",
      "{'Full Name': 'Beth Murphy', 'Email': 'bethmurphy@allstate.com', 'Account Name: Account Name': 'Allstate', 'Contact ID': '0032A00002uogUj', 'email_domain': 'allstate', 'First Name': 'beth', 'Last Name': 'murphy', 'Account ID': '001F000000q05tW'}\n",
      "{'Full Name': 'Beth Murphy', 'Email': 'bethmurphy@allstate.com', 'Account Name: Account Name': 'Allstate', 'Contact ID': '0032A00002uogUj', 'email_domain': 'allstate', 'First Name': 'beth', 'Last Name': 'murphy', 'Account ID': '001F000000q05tW'}\n",
      "{'Full Name': 'Cindy Johnson', 'Email': 'cindy.johnson@hanes.com', 'Account Name: Account Name': 'Hanesbrands', 'Contact ID': '0032A00002uoXCp', 'email_domain': 'hanes', 'First Name': 'cindy', 'Last Name': 'johnson', 'Account ID': '001F000001OrqRO'}\n",
      "{'Full Name': 'Catherine Jones', 'Email': 'catherinejones4.b2b@gmail.com', 'Account Name: Account Name': 'River City Publishing', 'Contact ID': '0032A00002uolkx', 'email_domain': 'gmail', 'First Name': 'catherine', 'Last Name': 'jones', 'Account ID': '001F000000oyop9'}\n",
      "{'Full Name': 'Aaron Miller', 'Email': 'aaronmiller@allstate.com', 'Account Name: Account Name': 'Allstate', 'Contact ID': '0032A00002uooWN', 'email_domain': 'allstate', 'First Name': 'aaron', 'Last Name': 'miller', 'Account ID': '001F000000q05tW'}\n",
      "{'Full Name': 'Aaron Miller', 'Email': 'aaronmiller@allstate.com', 'Account Name: Account Name': 'Allstate', 'Contact ID': '0032A00002uooWN', 'email_domain': 'allstate', 'First Name': 'aaron', 'Last Name': 'miller', 'Account ID': '001F000000q05tW'}\n",
      "{'Full Name': 'Aaron Miller', 'Email': 'aaronmiller@allstate.com', 'Account Name: Account Name': 'Allstate', 'Contact ID': '0032A00002uonrf', 'email_domain': 'allstate', 'First Name': 'aaron', 'Last Name': 'miller', 'Account ID': '001F000000q05tW'}\n",
      "{'Full Name': 'Aaron Miller', 'Email': 'aaronmiller@allstate.com', 'Account Name: Account Name': 'Allstate', 'Contact ID': '0032A00002uonrf', 'email_domain': 'allstate', 'First Name': 'aaron', 'Last Name': 'miller', 'Account ID': '001F000000q05tW'}\n",
      "{'Full Name': 'Beth Murphy', 'Email': 'bethmurphy@allstate.com', 'Account Name: Account Name': 'Allstate', 'Contact ID': '0032A00002uonrv', 'email_domain': 'allstate', 'First Name': 'beth', 'Last Name': 'murphy', 'Account ID': '001F000000q05tW'}\n",
      "{'Full Name': 'Beth Murphy', 'Email': 'bethmurphy@allstate.com', 'Account Name: Account Name': 'Allstate', 'Contact ID': '0032A00002uonrv', 'email_domain': 'allstate', 'First Name': 'beth', 'Last Name': 'murphy', 'Account ID': '001F000000q05tW'}\n",
      "{'Full Name': 'Beth Murphy', 'Email': 'bethmurphy@allstate.com', 'Account Name: Account Name': 'Allstate', 'Contact ID': '0032A00002uooU2', 'email_domain': 'allstate', 'First Name': 'beth', 'Last Name': 'murphy', 'Account ID': '001F000000q05tW'}\n",
      "{'Full Name': 'Beth Murphy', 'Email': 'bethmurphy@allstate.com', 'Account Name: Account Name': 'Allstate', 'Contact ID': '0032A00002uooU2', 'email_domain': 'allstate', 'First Name': 'beth', 'Last Name': 'murphy', 'Account ID': '001F000000q05tW'}\n",
      "{'Full Name': 'Kurt Winter', 'Email': 'kwinter@allstate.com', 'Account Name: Account Name': 'Allstate', 'Contact ID': '0032A00002uog20', 'email_domain': 'allstate', 'First Name': 'kurt', 'Last Name': 'winter', 'Account ID': '001F000000q05tW'}\n",
      "{'Full Name': 'Kurt Winter', 'Email': 'kwinter@allstate.com', 'Account Name: Account Name': 'Allstate', 'Contact ID': '0032A00002uog20', 'email_domain': 'allstate', 'First Name': 'kurt', 'Last Name': 'winter', 'Account ID': '001F000000q05tW'}\n",
      "{'Full Name': 'Beth Murphy', 'Email': 'bethmurphy@allstate.com', 'Account Name: Account Name': 'Allstate', 'Contact ID': '0032A00002uoeyc', 'email_domain': 'allstate', 'First Name': 'beth', 'Last Name': 'murphy', 'Account ID': '001F000000q05tW'}\n",
      "{'Full Name': 'Beth Murphy', 'Email': 'bethmurphy@allstate.com', 'Account Name: Account Name': 'Allstate', 'Contact ID': '0032A00002uoeyc', 'email_domain': 'allstate', 'First Name': 'beth', 'Last Name': 'murphy', 'Account ID': '001F000000q05tW'}\n",
      "{'Full Name': 'Christopher Miller', 'Email': 'christophermiller@allstate.com', 'Account Name: Account Name': 'Allstate', 'Contact ID': '0032A00002uoezo', 'email_domain': 'allstate', 'First Name': 'christopher', 'Last Name': 'miller', 'Account ID': '001F000000q05tW'}\n",
      "{'Full Name': 'Cindy Johnson', 'Email': 'cindy.johnson@hanes.com', 'Account Name: Account Name': 'Hanesbrands', 'Contact ID': '0032A00002uoZdW', 'email_domain': 'hanes', 'First Name': 'cindy', 'Last Name': 'johnson', 'Account ID': '001F000001OrqRO'}\n",
      "{'Full Name': 'Dietric Williams', 'Email': 'dw.calihomes@gmail.com', 'Account Name: Account Name': 'Nebo Agency', 'Contact ID': '0032A00002uojaU', 'email_domain': 'gmail', 'First Name': 'dietric', 'Last Name': 'williams', 'Account ID': '0012A000028seDe'}\n",
      "{'Full Name': 'Dietric Williams', 'Email': 'dw.calihomes@gmail.com', 'Account Name: Account Name': 'MarketPlace Group', 'Contact ID': '0032A00002uojaU', 'email_domain': 'gmail', 'First Name': 'dietric', 'Last Name': 'williams', 'Account ID': '001F000001hSHyR'}\n",
      "{'Full Name': 'Aaron Miller', 'Email': 'aaronmiller@allstate.com', 'Account Name: Account Name': 'Allstate', 'Contact ID': '0032A00002uogvM', 'email_domain': 'allstate', 'First Name': 'aaron', 'Last Name': 'miller', 'Account ID': '001F000000q05tW'}\n",
      "{'Full Name': 'Aaron Miller', 'Email': 'aaronmiller@allstate.com', 'Account Name: Account Name': 'Allstate', 'Contact ID': '0032A00002uogvM', 'email_domain': 'allstate', 'First Name': 'aaron', 'Last Name': 'miller', 'Account ID': '001F000000q05tW'}\n"
     ]
    },
    {
     "data": {
      "text/plain": [
       "37548096"
      ]
     },
     "execution_count": 83,
     "metadata": {},
     "output_type": "execute_result"
    }
   ],
   "source": [
    "count = 0\n",
    "for contact in no_account:\n",
    "    for account in all_accounts:\n",
    "        if contact['Email'] == account['Email']:\n",
    "            contact['Account Name: Account Name']= account['Account Name']\n",
    "            contact['Account ID']= account['Account ID']\n",
    "        elif contact[\"email_domain\"]== account['email_domain'] and contact[\"First Name\"]== account[\"First Name\"] and contact[\"Last Name\"]== account[\"Last Name\"]:\n",
    "            contact['Account Name: Account Name']= account['Account Name']\n",
    "            contact['Account ID']= account['Account ID']\n",
    "            \n",
    "#         elif contact[\"email_domain\"]== account['email_domain']  and contact[\"Last Name\"]== account[\"Last Name\"]:\n",
    "#             contact['Account Name: Account Name']= account['Account Name']\n",
    "#             contact['Account ID']= account['Account ID']\n",
    "#             print(contact)\n",
    "        count+= 1\n",
    "            \n",
    "count"
   ]
  },
  {
   "cell_type": "code",
   "execution_count": 74,
   "metadata": {},
   "outputs": [],
   "source": [
    "not_matched=list()\n",
    "matched = list()\n",
    "for contact in no_account:\n",
    "    if isinstance(contact['Account Name: Account Name'],float):\n",
    "        not_matched.append(contact)\n",
    "    else:\n",
    "        matched.append(contact)"
   ]
  },
  {
   "cell_type": "code",
   "execution_count": 75,
   "metadata": {},
   "outputs": [
    {
     "data": {
      "text/plain": [
       "558"
      ]
     },
     "execution_count": 75,
     "metadata": {},
     "output_type": "execute_result"
    }
   ],
   "source": [
    "len(not_matched)"
   ]
  },
  {
   "cell_type": "code",
   "execution_count": 76,
   "metadata": {},
   "outputs": [
    {
     "data": {
      "text/plain": [
       "518"
      ]
     },
     "execution_count": 76,
     "metadata": {},
     "output_type": "execute_result"
    }
   ],
   "source": [
    "len(matched)"
   ]
  },
  {
   "cell_type": "code",
   "execution_count": 77,
   "metadata": {},
   "outputs": [
    {
     "data": {
      "text/html": [
       "<div>\n",
       "<style scoped>\n",
       "    .dataframe tbody tr th:only-of-type {\n",
       "        vertical-align: middle;\n",
       "    }\n",
       "\n",
       "    .dataframe tbody tr th {\n",
       "        vertical-align: top;\n",
       "    }\n",
       "\n",
       "    .dataframe thead th {\n",
       "        text-align: right;\n",
       "    }\n",
       "</style>\n",
       "<table border=\"1\" class=\"dataframe\">\n",
       "  <thead>\n",
       "    <tr style=\"text-align: right;\">\n",
       "      <th></th>\n",
       "      <th>Account ID</th>\n",
       "      <th>Account Name: Account Name</th>\n",
       "      <th>Contact ID</th>\n",
       "      <th>Email</th>\n",
       "      <th>First Name</th>\n",
       "      <th>Full Name</th>\n",
       "      <th>Last Name</th>\n",
       "      <th>email_domain</th>\n",
       "    </tr>\n",
       "  </thead>\n",
       "  <tbody>\n",
       "    <tr>\n",
       "      <th>0</th>\n",
       "      <td>0012A00002DnVmE</td>\n",
       "      <td>HackerAgency</td>\n",
       "      <td>0032A00002up33E</td>\n",
       "      <td>david.kalman@hal2l.com</td>\n",
       "      <td>david</td>\n",
       "      <td>David Kalman</td>\n",
       "      <td>kalman</td>\n",
       "      <td>hal2l</td>\n",
       "    </tr>\n",
       "    <tr>\n",
       "      <th>1</th>\n",
       "      <td>001F000000q05tW</td>\n",
       "      <td>Allstate</td>\n",
       "      <td>0032A00002up32Z</td>\n",
       "      <td>kim.dunworth-miller@allstate.com</td>\n",
       "      <td>kim</td>\n",
       "      <td>Kim Dunworth-Miller</td>\n",
       "      <td>dunworth-miller</td>\n",
       "      <td>allstate</td>\n",
       "    </tr>\n",
       "    <tr>\n",
       "      <th>2</th>\n",
       "      <td>001F000001OrqRO</td>\n",
       "      <td>Hanesbrands</td>\n",
       "      <td>0032A00002up098</td>\n",
       "      <td>michelle.mezzano@hanes.com</td>\n",
       "      <td>michelle</td>\n",
       "      <td>Michelle Mezzano</td>\n",
       "      <td>mezzano</td>\n",
       "      <td>hanes</td>\n",
       "    </tr>\n",
       "    <tr>\n",
       "      <th>3</th>\n",
       "      <td>001F000000q05tW</td>\n",
       "      <td>Allstate</td>\n",
       "      <td>0032A00002up3re</td>\n",
       "      <td>jlisz@allstate.com</td>\n",
       "      <td>james</td>\n",
       "      <td>James Liszka</td>\n",
       "      <td>liszka</td>\n",
       "      <td>allstate</td>\n",
       "    </tr>\n",
       "    <tr>\n",
       "      <th>4</th>\n",
       "      <td>001F000000q05tW</td>\n",
       "      <td>Allstate</td>\n",
       "      <td>0032A00002up3sG</td>\n",
       "      <td>kval2@allstate.com</td>\n",
       "      <td>karen</td>\n",
       "      <td>Karen Valdez</td>\n",
       "      <td>valdez</td>\n",
       "      <td>allstate</td>\n",
       "    </tr>\n",
       "  </tbody>\n",
       "</table>\n",
       "</div>"
      ],
      "text/plain": [
       "        Account ID Account Name: Account Name       Contact ID  \\\n",
       "0  0012A00002DnVmE               HackerAgency  0032A00002up33E   \n",
       "1  001F000000q05tW                   Allstate  0032A00002up32Z   \n",
       "2  001F000001OrqRO                Hanesbrands  0032A00002up098   \n",
       "3  001F000000q05tW                   Allstate  0032A00002up3re   \n",
       "4  001F000000q05tW                   Allstate  0032A00002up3sG   \n",
       "\n",
       "                              Email First Name            Full Name  \\\n",
       "0            david.kalman@hal2l.com      david         David Kalman   \n",
       "1  kim.dunworth-miller@allstate.com        kim  Kim Dunworth-Miller   \n",
       "2        michelle.mezzano@hanes.com   michelle     Michelle Mezzano   \n",
       "3                jlisz@allstate.com      james         James Liszka   \n",
       "4                kval2@allstate.com      karen         Karen Valdez   \n",
       "\n",
       "         Last Name email_domain  \n",
       "0           kalman        hal2l  \n",
       "1  dunworth-miller     allstate  \n",
       "2          mezzano        hanes  \n",
       "3           liszka     allstate  \n",
       "4           valdez     allstate  "
      ]
     },
     "execution_count": 77,
     "metadata": {},
     "output_type": "execute_result"
    }
   ],
   "source": [
    "output = pd.DataFrame().append(matched,ignore_index=True)\n",
    "output.head()"
   ]
  },
  {
   "cell_type": "code",
   "execution_count": 78,
   "metadata": {},
   "outputs": [
    {
     "data": {
      "text/plain": [
       "1076"
      ]
     },
     "execution_count": 78,
     "metadata": {},
     "output_type": "execute_result"
    }
   ],
   "source": [
    "len(no_account)"
   ]
  },
  {
   "cell_type": "code",
   "execution_count": 79,
   "metadata": {},
   "outputs": [
    {
     "data": {
      "text/plain": [
       "(518, 8)"
      ]
     },
     "execution_count": 79,
     "metadata": {},
     "output_type": "execute_result"
    }
   ],
   "source": [
    "output.shape"
   ]
  },
  {
   "cell_type": "code",
   "execution_count": 80,
   "metadata": {},
   "outputs": [],
   "source": [
    "output.to_csv(\"no_account_matches.csv\",header=True,index=False)"
   ]
  },
  {
   "cell_type": "code",
   "execution_count": null,
   "metadata": {},
   "outputs": [],
   "source": []
  }
 ],
 "metadata": {
  "hide_input": false,
  "kernelspec": {
   "display_name": "Python 3",
   "language": "python",
   "name": "python3"
  },
  "language_info": {
   "codemirror_mode": {
    "name": "ipython",
    "version": 3
   },
   "file_extension": ".py",
   "mimetype": "text/x-python",
   "name": "python",
   "nbconvert_exporter": "python",
   "pygments_lexer": "ipython3",
   "version": "3.7.1"
  },
  "toc": {
   "base_numbering": 1,
   "nav_menu": {},
   "number_sections": false,
   "sideBar": true,
   "skip_h1_title": false,
   "title_cell": "Table of Contents",
   "title_sidebar": "Contents",
   "toc_cell": false,
   "toc_position": {},
   "toc_section_display": true,
   "toc_window_display": false
  }
 },
 "nbformat": 4,
 "nbformat_minor": 2
}
