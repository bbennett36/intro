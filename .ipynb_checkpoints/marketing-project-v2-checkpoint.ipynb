{
 "cells": [
  {
   "cell_type": "code",
   "execution_count": 7,
   "metadata": {},
   "outputs": [
    {
     "data": {
      "text/html": [
       "<style>.container { width:90% !important; }</style>"
      ],
      "text/plain": [
       "<IPython.core.display.HTML object>"
      ]
     },
     "metadata": {},
     "output_type": "display_data"
    }
   ],
   "source": [
    "import pandas as pd\n",
    "import numpy as np\n",
    "\n",
    "\n",
    "from IPython.core.display import display, HTML\n",
    "display(HTML(\"<style>.container { width:90% !important; }</style>\"))\n",
    "\n",
    "pd.set_option('display.max_columns', None)\n",
    "pd.set_option('display.max_rows', None)"
   ]
  },
  {
   "cell_type": "markdown",
   "metadata": {
    "hide_input": true
   },
   "source": [
    "<h1>Goal - Match contacts with no account to our Speedeon accounts from salesforce</h1>\n",
    "<hr>"
   ]
  },
  {
   "cell_type": "markdown",
   "metadata": {},
   "source": [
    "<h3> Project </h3> "
   ]
  },
  {
   "cell_type": "code",
   "execution_count": 8,
   "metadata": {},
   "outputs": [],
   "source": [
    "def get_domain(value):\n",
    "    if isinstance(value, str):\n",
    "        return value.split('@')[1].replace('.com', '')\n",
    "    else:\n",
    "        return value\n",
    "    \n",
    "def split_first(value):\n",
    "    if isinstance(value, str):\n",
    "        return value.split(\" \")[0]\n",
    "    else:\n",
    "        return value\n",
    "    \n",
    "def split_last(value):\n",
    "    if isinstance(value, str):\n",
    "        return value.split(\" \")[1]\n",
    "    else:\n",
    "        return value"
   ]
  },
  {
   "cell_type": "code",
   "execution_count": 9,
   "metadata": {},
   "outputs": [],
   "source": [
    "# enter filename for all accounts\n",
    "all_accounts_fname = \"report1557927215481.csv\"\n",
    "\n",
    "# enter filename for contacts with no account\n",
    "no_account_fname = \"contacts_no_accounts.csv\"\n",
    "\n",
    "# enter output filename\n",
    "output_fname = '051519_matched_contacts.csv'"
   ]
  },
  {
   "cell_type": "code",
   "execution_count": 10,
   "metadata": {},
   "outputs": [],
   "source": [
    "# Dictionary containing all available accounts\n",
    "all_accounts = pd.read_csv(all_accounts_fname, encoding='latin-1')\n",
    "all_accounts['email_domain'] = all_accounts['Email'].apply(get_domain)\n",
    "all_accounts['First Name'] = all_accounts['First Name'].apply(lambda x:  x if isinstance(x,float) else x.lower())\n",
    "all_accounts['Last Name'] = all_accounts['Last Name'].apply(lambda x:  x if isinstance(x,float) else x.lower()) \n",
    "\n",
    "# Dictionary containing all contacts with no accounts\n",
    "no_account = pd.read_csv(no_account_fname, encoding='latin-1')\n",
    "no_account['email_domain'] = no_account['Email'].apply(get_domain)\n",
    "no_account['First Name'] = no_account['Full Name'].apply(split_first)\n",
    "no_account['Last Name'] = no_account['Full Name'].apply(split_last)\n",
    "no_account['First Name'] = no_account['First Name'].apply(lambda x:  x if isinstance(x,float) else x.lower())\n",
    "no_account['Last Name'] = no_account['Last Name'].apply(lambda x:  x if isinstance(x,float) else x.lower())\n",
    "no_account[\"Account ID\"] = \"\"\n",
    "\n",
    "all_accounts = all_accounts.to_dict(orient='records')\n",
    "no_account = no_account.to_dict(orient='records')"
   ]
  },
  {
   "cell_type": "markdown",
   "metadata": {},
   "source": [
    "<h3> Find exact email matches between the two datasets </h3>\n",
    "<ol>\n",
    "<li> Iterate through both lists, find the exact email matches</li>\n",
    "<li> Append matches to another list</li>\n",
    "</ol>"
   ]
  },
  {
   "cell_type": "code",
   "execution_count": 11,
   "metadata": {},
   "outputs": [
    {
     "data": {
      "text/plain": [
       "37548096"
      ]
     },
     "execution_count": 11,
     "metadata": {},
     "output_type": "execute_result"
    }
   ],
   "source": [
    "for contact in no_account:\n",
    "    for account in all_accounts:\n",
    "        if contact['Email'] == account['Email']:\n",
    "            contact['Account Name: Account Name']= account['Account Name']\n",
    "            contact['Account ID']= account['Account ID']\n",
    "        elif contact[\"email_domain\"]== account['email_domain'] and contact[\"First Name\"]== account[\"First Name\"] and contact[\"Last Name\"]== account[\"Last Name\"]:\n",
    "            contact['Account Name: Account Name']= account['Account Name']\n",
    "            contact['Account ID']= account['Account ID']\n",
    "            \n",
    "#         elif contact[\"email_domain\"]== account['email_domain']  and contact[\"Last Name\"]== account[\"Last Name\"]:\n",
    "#             contact['Account Name: Account Name']= account['Account Name']\n",
    "#             contact['Account ID']= account['Account ID']\n",
    "#             print(contact)"
   ]
  },
  {
   "cell_type": "code",
   "execution_count": 12,
   "metadata": {},
   "outputs": [
    {
     "name": "stdout",
     "output_type": "stream",
     "text": [
      "matched: 518\n",
      "not matched: 558\n"
     ]
    }
   ],
   "source": [
    "not_matched=list()\n",
    "matched = list()\n",
    "for contact in no_account:\n",
    "    if isinstance(contact['Account Name: Account Name'],float):\n",
    "        not_matched.append(contact)\n",
    "    else:\n",
    "        matched.append(contact)\n",
    "        \n",
    "print(\"matched:\", len(matched))\n",
    "print(\"not matched:\", len(not_matched))"
   ]
  },
  {
   "cell_type": "code",
   "execution_count": 13,
   "metadata": {},
   "outputs": [
    {
     "name": "stdout",
     "output_type": "stream",
     "text": [
      "(518, 8)\n"
     ]
    }
   ],
   "source": [
    "output = pd.DataFrame().append(matched,ignore_index=True)\n",
    "print(output.shape)\n",
    "output.to_csv(output_fname,header=True,index=False)"
   ]
  }
 ],
 "metadata": {
  "hide_input": false,
  "kernelspec": {
   "display_name": "Python 3",
   "language": "python",
   "name": "python3"
  },
  "language_info": {
   "codemirror_mode": {
    "name": "ipython",
    "version": 3
   },
   "file_extension": ".py",
   "mimetype": "text/x-python",
   "name": "python",
   "nbconvert_exporter": "python",
   "pygments_lexer": "ipython3",
   "version": "3.7.1"
  },
  "toc": {
   "base_numbering": 1,
   "nav_menu": {},
   "number_sections": false,
   "sideBar": true,
   "skip_h1_title": false,
   "title_cell": "Table of Contents",
   "title_sidebar": "Contents",
   "toc_cell": false,
   "toc_position": {},
   "toc_section_display": true,
   "toc_window_display": false
  }
 },
 "nbformat": 4,
 "nbformat_minor": 2
}
