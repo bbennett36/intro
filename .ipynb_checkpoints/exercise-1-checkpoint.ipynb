{
 "cells": [
  {
   "cell_type": "markdown",
   "metadata": {},
   "source": [
    "# Ask the user for serveral pieces of information and display them on the screen afterwards as a summary"
   ]
  },
  {
   "cell_type": "markdown",
   "metadata": {},
   "source": [
    "First Name  \n",
    "Last Name  \n",
    "Grade Level  \n",
    "Student ID Number  \n",
    "Login Name  \n",
    "GPA (0.0-4.0)"
   ]
  },
  {
   "cell_type": "code",
   "execution_count": 1,
   "metadata": {},
   "outputs": [
    {
     "name": "stdout",
     "output_type": "stream",
     "text": [
      "what is your first name?c\n",
      "what is your last name?p\n",
      "what is your grade level?9\n",
      "what is your student ID90987\n",
      "what is your login name?cpender\n",
      "what is your gpa?2.7\n"
     ]
    }
   ],
   "source": [
    "first_name = input(\"what is your first name?\")\n",
    "last_name = input(\"what is your last name?\")\n",
    "grade_level = input(\"what is your grade level?\")\n",
    "grade_level = int(grade_level)\n",
    "student_id = input(\"what is your student ID\")\n",
    "login_name = input (\"what is your login name?\")\n",
    "gpa = input(\"what is your gpa?\")\n",
    "gpa = float(gpa)"
   ]
  },
  {
   "cell_type": "code",
   "execution_count": 2,
   "metadata": {},
   "outputs": [
    {
     "name": "stdout",
     "output_type": "stream",
     "text": [
      "c\n",
      "p\n",
      "9\n",
      "90987\n",
      "cpender\n",
      "2.7\n"
     ]
    }
   ],
   "source": [
    "print(first_name)\n",
    "print(last_name)\n",
    "print(grade_level)\n",
    "print(student_id)\n",
    "print(login_name)\n",
    "print(gpa)"
   ]
  },
  {
   "cell_type": "code",
   "execution_count": null,
   "metadata": {},
   "outputs": [],
   "source": []
  }
 ],
 "metadata": {
  "kernelspec": {
   "display_name": "Python 3",
   "language": "python",
   "name": "python3"
  },
  "language_info": {
   "codemirror_mode": {
    "name": "ipython",
    "version": 3
   },
   "file_extension": ".py",
   "mimetype": "text/x-python",
   "name": "python",
   "nbconvert_exporter": "python",
   "pygments_lexer": "ipython3",
   "version": "3.7.1"
  }
 },
 "nbformat": 4,
 "nbformat_minor": 2
}
